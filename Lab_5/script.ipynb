{
 "cells": [
  {
   "cell_type": "code",
   "execution_count": 23,
   "id": "initial_id",
   "metadata": {
    "collapsed": true,
    "ExecuteTime": {
     "end_time": "2024-11-22T22:14:25.285373900Z",
     "start_time": "2024-11-22T22:14:23.813988600Z"
    }
   },
   "outputs": [],
   "source": [
    "import nltk\n",
    "from nltk.sentiment import SentimentIntensityAnalyzer\n",
    "import  matplotlib.pyplot as plt"
   ]
  },
  {
   "cell_type": "code",
   "execution_count": 32,
   "outputs": [],
   "source": [
    "list_of_comments = [\n",
    "    'A 9 huh? Are we sure the number didn’t accidentally get turned upside down?',\n",
    "    'ou gave wukong an 8, stellar blade a 7, and this abomination a 9?! Ok, ign.',\n",
    "    '\"Slick looping corridors with just enough little nooks to explore\" is a nice way of saying this is linear AF lol.',\n",
    "    'The writing is, frankly, terminal. It lacks any nuance, wit, or wisdom. It cannot communicate ideas, except to say them aloud to the camera. It manufactures petty, unbelievable tension because it doesn’t know how to create anything more real, and it’s too scared to ever be truly confronting or dark for fear that it might make the audience uncomfortable. Every interaction between companions feels like HR is in the room. And every interaction led by the main character Rook sounds like he’s addressing an under-12 soccer team before a semi-final or teaching toddlers to properly share toys.',\n",
    "    'You legally need to show this is sponsored content...',\n",
    "    'Well, at least we can applaud to the balls of IGN for not shutting down the comment section.',\n",
    "    'Don’t trust this review',\n",
    "    'LOL. After 0:44 I knew I should skip this game entirely. Thx',\n",
    "    'The reviewer is complaining about the game not having barely any ties to the older games yet gives it a 9.',\n",
    "    'GN has officially become a JOKE'\n",
    "]"
   ],
   "metadata": {
    "collapsed": false,
    "ExecuteTime": {
     "end_time": "2024-11-22T22:19:52.069577400Z",
     "start_time": "2024-11-22T22:19:52.042885200Z"
    }
   },
   "id": "2468511a448c9858"
  },
  {
   "cell_type": "code",
   "execution_count": 33,
   "outputs": [
    {
     "data": {
      "text/plain": "'\\nneg (negative):\\nWartość między 0 a 1\\n\\nneu (neutral):\\nWartość między 0 a 1, wskazująca proporcję neutralnego sentymentu.\\n\\npos (positive):\\nWartość między 0 a 1, wskazująca proporcję pozytywnego sentymentu.\\n\\n\\ncompound (compound score):\\nPojedyncza liczba mieszcząca się w przedziale od -1 (maksymalnie negatywny) do 1 (maksymalnie pozytywny).\\n'"
     },
     "execution_count": 33,
     "metadata": {},
     "output_type": "execute_result"
    }
   ],
   "source": [
    "\"\"\"\n",
    "neg (negative):\n",
    "Wartość między 0 a 1\n",
    "\n",
    "neu (neutral):\n",
    "Wartość między 0 a 1, wskazująca proporcję neutralnego sentymentu.\n",
    "\n",
    "pos (positive):\n",
    "Wartość między 0 a 1, wskazująca proporcję pozytywnego sentymentu.\n",
    "\n",
    "\n",
    "compound (compound score):\n",
    "Pojedyncza liczba mieszcząca się w przedziale od -1 (maksymalnie negatywny) do 1 (maksymalnie pozytywny).\n",
    "\"\"\""
   ],
   "metadata": {
    "collapsed": false,
    "ExecuteTime": {
     "end_time": "2024-11-22T22:19:52.816959Z",
     "start_time": "2024-11-22T22:19:52.793347800Z"
    }
   },
   "id": "f0715533093a50c8"
  },
  {
   "cell_type": "code",
   "execution_count": 35,
   "outputs": [
    {
     "name": "stdout",
     "output_type": "stream",
     "text": [
      "{'neg': 0.156, 'neu': 0.586, 'pos': 0.258, 'compound': 0.1431}\n",
      "{'neg': 0.0, 'neu': 0.839, 'pos': 0.161, 'compound': 0.3595}\n",
      "{'neg': 0.0, 'neu': 0.763, 'pos': 0.237, 'compound': 0.6808}\n",
      "{'neg': 0.125, 'neu': 0.723, 'pos': 0.152, 'compound': 0.4588}\n",
      "{'neg': 0.0, 'neu': 0.851, 'pos': 0.149, 'compound': 0.1027}\n",
      "{'neg': 0.0, 'neu': 0.758, 'pos': 0.242, 'compound': 0.6249}\n",
      "{'neg': 0.0, 'neu': 0.476, 'pos': 0.524, 'compound': 0.5106}\n",
      "{'neg': 0.0, 'neu': 0.558, 'pos': 0.442, 'compound': 0.745}\n",
      "{'neg': 0.087, 'neu': 0.913, 'pos': 0.0, 'compound': -0.2023}\n",
      "{'neg': 0.0, 'neu': 0.338, 'pos': 0.662, 'compound': 0.7065}\n",
      "Analiza sentymentu: {'neg': 0, 'neu': 8, 'pos': 2}\n"
     ]
    },
    {
     "data": {
      "text/plain": "<Figure size 640x480 with 1 Axes>",
      "image/png": "[encoded data removed]"
     },
     "metadata": {},
     "output_type": "display_data"
    }
   ],
   "source": [
    "# Analiza sentymentu\n",
    "sia = SentimentIntensityAnalyzer()\n",
    "sentiments = {'neg': 0, 'neu': 0, 'pos': 0}\n",
    "for comment in list_of_comments:\n",
    "    temp = sia.polarity_scores(comment)\n",
    "    print(temp)\n",
    "    if temp['neg'] > temp['neu'] and temp['neg'] > temp['pos']:\n",
    "        sentiments['neg'] += 1\n",
    "    if temp['neu'] > temp['neg'] and temp['neu'] > temp['pos']:\n",
    "        sentiments['neu'] += 1\n",
    "    if temp['pos'] > temp['neu'] and temp['pos'] > temp['neg']:\n",
    "        sentiments['pos'] += 1\n",
    "\n",
    "plt.bar(sentiments.keys(), sentiments.values())\n",
    "print(\"Analiza sentymentu:\", sentiments)"
   ],
   "metadata": {
    "collapsed": false,
    "ExecuteTime": {
     "end_time": "2024-11-22T22:25:01.916405100Z",
     "start_time": "2024-11-22T22:25:01.749365300Z"
    }
   },
   "id": "7912ce60a9911af4"
  },
  {
   "cell_type": "code",
   "execution_count": null,
   "outputs": [],
   "source": [],
   "metadata": {
    "collapsed": false
   },
   "id": "6328d863a93ac20e"
  },
  {
   "cell_type": "code",
   "execution_count": 11,
   "outputs": [
    {
     "name": "stdout",
     "output_type": "stream",
     "text": [
      "Natural Language Processing (NLP) is a subfield of artificial intelligence. It focuses on the interaction between computers and humans using natural language.\n"
     ]
    }
   ],
   "source": [],
   "metadata": {
    "collapsed": false,
    "ExecuteTime": {
     "end_time": "2024-11-22T19:39:01.680135400Z",
     "start_time": "2024-11-22T19:31:01.002967Z"
    }
   },
   "id": "1b130363e7013f8e"
  },
  {
   "cell_type": "code",
   "execution_count": 12,
   "outputs": [
    {
     "ename": "ModuleNotFoundError",
     "evalue": "No module named 'youtube_comment_downloader'",
     "output_type": "error",
     "traceback": [
      "\u001B[1;31m---------------------------------------------------------------------------\u001B[0m",
      "\u001B[1;31mModuleNotFoundError\u001B[0m                       Traceback (most recent call last)",
      "Cell \u001B[1;32mIn[12], line 6\u001B[0m\n\u001B[0;32m      4\u001B[0m \u001B[38;5;28;01mfrom\u001B[39;00m \u001B[38;5;21;01mitertools\u001B[39;00m \u001B[38;5;28;01mimport\u001B[39;00m combinations\n\u001B[0;32m      5\u001B[0m \u001B[38;5;28;01mfrom\u001B[39;00m \u001B[38;5;21;01mcollections\u001B[39;00m \u001B[38;5;28;01mimport\u001B[39;00m defaultdict\n\u001B[1;32m----> 6\u001B[0m \u001B[38;5;28;01mfrom\u001B[39;00m \u001B[38;5;21;01myoutube_comment_downloader\u001B[39;00m \u001B[38;5;28;01mimport\u001B[39;00m YoutubeCommentDownloader\n",
      "\u001B[1;31mModuleNotFoundError\u001B[0m: No module named 'youtube_comment_downloader'"
     ]
    }
   ],
   "source": [],
   "metadata": {
    "collapsed": false,
    "ExecuteTime": {
     "end_time": "2024-11-22T21:04:31.595405Z",
     "start_time": "2024-11-22T21:04:31.260264100Z"
    }
   },
   "id": "33893776d8d43195"
  },
  {
   "cell_type": "code",
   "execution_count": null,
   "outputs": [],
   "source": [],
   "metadata": {
    "collapsed": false
   },
   "id": "32a6711a84c11118"
  }
 ],
 "metadata": {
  "kernelspec": {
   "display_name": "Python 3",
   "language": "python",
   "name": "python3"
  },
  "language_info": {
   "codemirror_mode": {
    "name": "ipython",
    "version": 2
   },
   "file_extension": ".py",
   "mimetype": "text/x-python",
   "name": "python",
   "nbconvert_exporter": "python",
   "pygments_lexer": "ipython2",
   "version": "2.7.6"
  }
 },
 "nbformat": 4,
 "nbformat_minor": 5
}
