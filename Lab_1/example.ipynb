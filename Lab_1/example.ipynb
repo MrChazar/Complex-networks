{
 "cells": [
  {
   "cell_type": "code",
   "execution_count": 1,
   "id": "initial_id",
   "metadata": {
    "collapsed": true,
    "ExecuteTime": {
     "end_time": "2024-10-18T10:56:41.891638100Z",
     "start_time": "2024-10-18T10:56:36.851437400Z"
    }
   },
   "outputs": [
    {
     "name": "stderr",
     "output_type": "stream",
     "text": [
      "\u001B[32m2024-10-18 12:56:41.729\u001B[0m | \u001B[34m\u001B[1mDEBUG   \u001B[0m | \u001B[36mwykop.wykop_api\u001B[0m:\u001B[36mauthenticate\u001B[0m:\u001B[36m42\u001B[0m - \u001B[34m\u001B[1mAuthenticated successfully.\u001B[0m\n",
      "\u001B[32m2024-10-18 12:56:41.738\u001B[0m | \u001B[34m\u001B[1mDEBUG   \u001B[0m | \u001B[36mwykop.wykop_api\u001B[0m:\u001B[36mmake_request\u001B[0m:\u001B[36m64\u001B[0m - \u001B[34m\u001B[1mMaking request to https://wykop.pl/api/v3/tags/nieruchomości/related\u001B[0m\n"
     ]
    },
    {
     "data": {
      "text/plain": "[{'name': 'kredythipoteczny'},\n {'name': 'mieszkanie'},\n {'name': 'heheszki'},\n {'name': 'ekonomia'},\n {'name': 'mieszkaniedeweloperskie'},\n {'name': 'gielda'},\n {'name': 'mieszkanienastart'},\n {'name': 'polska'},\n {'name': 'koalicjadeweloperska'},\n {'name': 'gospodarka'},\n {'name': 'deweloperka'},\n {'name': 'wynajem'},\n {'name': 'warszawa'},\n {'name': 'inwestycje'},\n {'name': 'budownictwo'}]"
     },
     "execution_count": 1,
     "metadata": {},
     "output_type": "execute_result"
    }
   ],
   "source": [
    "from wykop import WykopAPI\n",
    "import networkx as nx\n",
    "import matplotlib\n",
    "import matplotlib.pyplot as plt\n",
    "import plotly.graph_objects as go\n",
    "import time\n",
    "\n",
    "matplotlib.use('TkAgg')\n",
    "api = WykopAPI(\"w55988974f3d3194b7dd98c7ab2c6765c2\", \"05f093e009943e9e9b911f2a8a9f1a00\")\n",
    "api.authenticate()\n",
    "tag_name = \"nieruchomości\"\n",
    "related = api.make_request(f\"tags/{tag_name}/related\")\n",
    "related[\"data\"]"
   ]
  },
  {
   "cell_type": "code",
   "execution_count": 2,
   "outputs": [],
   "source": [
    "G = nx.Graph()\n",
    "G.add_node(tag_name)"
   ],
   "metadata": {
    "collapsed": false,
    "ExecuteTime": {
     "end_time": "2024-10-18T10:56:41.892637300Z",
     "start_time": "2024-10-18T10:56:41.789364Z"
    }
   },
   "id": "3e57d462bce9c72f"
  },
  {
   "cell_type": "code",
   "execution_count": 3,
   "outputs": [
    {
     "name": "stderr",
     "output_type": "stream",
     "text": [
      "\u001B[32m2024-10-18 12:56:42.317\u001B[0m | \u001B[34m\u001B[1mDEBUG   \u001B[0m | \u001B[36mwykop.wykop_api\u001B[0m:\u001B[36mmake_request\u001B[0m:\u001B[36m64\u001B[0m - \u001B[34m\u001B[1mMaking request to https://wykop.pl/api/v3/tags/kredythipoteczny/related\u001B[0m\n",
      "\u001B[32m2024-10-18 12:56:42.851\u001B[0m | \u001B[34m\u001B[1mDEBUG   \u001B[0m | \u001B[36mwykop.wykop_api\u001B[0m:\u001B[36mmake_request\u001B[0m:\u001B[36m64\u001B[0m - \u001B[34m\u001B[1mMaking request to https://wykop.pl/api/v3/tags/mieszkanie/related\u001B[0m\n",
      "\u001B[32m2024-10-18 12:56:43.385\u001B[0m | \u001B[34m\u001B[1mDEBUG   \u001B[0m | \u001B[36mwykop.wykop_api\u001B[0m:\u001B[36mmake_request\u001B[0m:\u001B[36m64\u001B[0m - \u001B[34m\u001B[1mMaking request to https://wykop.pl/api/v3/tags/heheszki/related\u001B[0m\n",
      "\u001B[32m2024-10-18 12:56:43.923\u001B[0m | \u001B[34m\u001B[1mDEBUG   \u001B[0m | \u001B[36mwykop.wykop_api\u001B[0m:\u001B[36mmake_request\u001B[0m:\u001B[36m64\u001B[0m - \u001B[34m\u001B[1mMaking request to https://wykop.pl/api/v3/tags/ekonomia/related\u001B[0m\n",
      "\u001B[32m2024-10-18 12:56:44.472\u001B[0m | \u001B[34m\u001B[1mDEBUG   \u001B[0m | \u001B[36mwykop.wykop_api\u001B[0m:\u001B[36mmake_request\u001B[0m:\u001B[36m64\u001B[0m - \u001B[34m\u001B[1mMaking request to https://wykop.pl/api/v3/tags/mieszkaniedeweloperskie/related\u001B[0m\n",
      "\u001B[32m2024-10-18 12:56:45.008\u001B[0m | \u001B[34m\u001B[1mDEBUG   \u001B[0m | \u001B[36mwykop.wykop_api\u001B[0m:\u001B[36mmake_request\u001B[0m:\u001B[36m64\u001B[0m - \u001B[34m\u001B[1mMaking request to https://wykop.pl/api/v3/tags/gielda/related\u001B[0m\n",
      "\u001B[32m2024-10-18 12:56:45.545\u001B[0m | \u001B[34m\u001B[1mDEBUG   \u001B[0m | \u001B[36mwykop.wykop_api\u001B[0m:\u001B[36mmake_request\u001B[0m:\u001B[36m64\u001B[0m - \u001B[34m\u001B[1mMaking request to https://wykop.pl/api/v3/tags/mieszkanienastart/related\u001B[0m\n",
      "\u001B[32m2024-10-18 12:56:46.087\u001B[0m | \u001B[34m\u001B[1mDEBUG   \u001B[0m | \u001B[36mwykop.wykop_api\u001B[0m:\u001B[36mmake_request\u001B[0m:\u001B[36m64\u001B[0m - \u001B[34m\u001B[1mMaking request to https://wykop.pl/api/v3/tags/polska/related\u001B[0m\n",
      "\u001B[32m2024-10-18 12:56:46.630\u001B[0m | \u001B[34m\u001B[1mDEBUG   \u001B[0m | \u001B[36mwykop.wykop_api\u001B[0m:\u001B[36mmake_request\u001B[0m:\u001B[36m64\u001B[0m - \u001B[34m\u001B[1mMaking request to https://wykop.pl/api/v3/tags/koalicjadeweloperska/related\u001B[0m\n",
      "\u001B[32m2024-10-18 12:56:47.169\u001B[0m | \u001B[34m\u001B[1mDEBUG   \u001B[0m | \u001B[36mwykop.wykop_api\u001B[0m:\u001B[36mmake_request\u001B[0m:\u001B[36m64\u001B[0m - \u001B[34m\u001B[1mMaking request to https://wykop.pl/api/v3/tags/gospodarka/related\u001B[0m\n",
      "\u001B[32m2024-10-18 12:56:47.708\u001B[0m | \u001B[34m\u001B[1mDEBUG   \u001B[0m | \u001B[36mwykop.wykop_api\u001B[0m:\u001B[36mmake_request\u001B[0m:\u001B[36m64\u001B[0m - \u001B[34m\u001B[1mMaking request to https://wykop.pl/api/v3/tags/deweloperka/related\u001B[0m\n",
      "\u001B[32m2024-10-18 12:56:48.243\u001B[0m | \u001B[34m\u001B[1mDEBUG   \u001B[0m | \u001B[36mwykop.wykop_api\u001B[0m:\u001B[36mmake_request\u001B[0m:\u001B[36m64\u001B[0m - \u001B[34m\u001B[1mMaking request to https://wykop.pl/api/v3/tags/wynajem/related\u001B[0m\n",
      "\u001B[32m2024-10-18 12:56:48.778\u001B[0m | \u001B[34m\u001B[1mDEBUG   \u001B[0m | \u001B[36mwykop.wykop_api\u001B[0m:\u001B[36mmake_request\u001B[0m:\u001B[36m64\u001B[0m - \u001B[34m\u001B[1mMaking request to https://wykop.pl/api/v3/tags/warszawa/related\u001B[0m\n",
      "\u001B[32m2024-10-18 12:56:49.311\u001B[0m | \u001B[34m\u001B[1mDEBUG   \u001B[0m | \u001B[36mwykop.wykop_api\u001B[0m:\u001B[36mmake_request\u001B[0m:\u001B[36m64\u001B[0m - \u001B[34m\u001B[1mMaking request to https://wykop.pl/api/v3/tags/inwestycje/related\u001B[0m\n",
      "\u001B[32m2024-10-18 12:56:49.837\u001B[0m | \u001B[34m\u001B[1mDEBUG   \u001B[0m | \u001B[36mwykop.wykop_api\u001B[0m:\u001B[36mmake_request\u001B[0m:\u001B[36m64\u001B[0m - \u001B[34m\u001B[1mMaking request to https://wykop.pl/api/v3/tags/budownictwo/related\u001B[0m\n"
     ]
    },
    {
     "name": "stdout",
     "output_type": "stream",
     "text": [
      "92\n"
     ]
    }
   ],
   "source": [
    "for related_tag in related[\"data\"]:\n",
    "    time.sleep(0.5)\n",
    "    G.add_edge(tag_name, related_tag[\"name\"])\n",
    "    second_degree_related = api.make_request(f\"tags/{related_tag['name']}/related\")\n",
    "    for second_degree_tag in second_degree_related[\"data\"]:\n",
    "        G.add_edge(related_tag[\"name\"], second_degree_tag[\"name\"])\n",
    "        \n",
    "        #third_degree_related = api.make_request(f\"tags/{second_degree_tag['name']}/related\")\n",
    "        \"\"\"\n",
    "        for third_degree_tag in third_degree_related[\"data\"]:\n",
    "            time.sleep(0.01)\n",
    "            G.add_edge(second_degree_tag[\"name\"], third_degree_tag[\"name\"])\n",
    "       \n",
    "            fourth_degree_related = api.make_request(f\"tags/{third_degree_tag['name']}/related\")\n",
    "            for fourth_degree_tag in fourth_degree_related[\"data\"]:\n",
    "                time.sleep(0.01)\n",
    "                G.add_edge(third_degree_tag[\"name\"], fourth_degree_tag[\"name\"])\n",
    "        \"\"\"\n",
    "print(len(G))"
   ],
   "metadata": {
    "collapsed": false,
    "ExecuteTime": {
     "end_time": "2024-10-18T10:56:49.897237300Z",
     "start_time": "2024-10-18T10:56:41.807364300Z"
    }
   },
   "id": "cf63e1472acd58a6"
  },
  {
   "cell_type": "code",
   "execution_count": 4,
   "outputs": [],
   "source": [
    "plt.figure(figsize=(150, 100))\n",
    "pos = nx.spring_layout(G, k=0.5, iterations=50)\n",
    "\n",
    "# nodes\n",
    "nx.draw_networkx_nodes(G, pos, node_size=[150+ v * 40 for v in dict(G.degree).values()])\n",
    "\n",
    "# edges\n",
    "nx.draw_networkx_edges(G, pos, edgelist=G.edges(), width=1.5)\n",
    "\n",
    "# labels\n",
    "nx.draw_networkx_labels(G, pos, font_size=12, font_family='sans-serif', font_color='red')\n",
    "\n",
    "plt.show()"
   ],
   "metadata": {
    "collapsed": false,
    "ExecuteTime": {
     "end_time": "2024-10-18T10:57:20.791721900Z",
     "start_time": "2024-10-18T10:56:50.480217100Z"
    }
   },
   "id": "84edd3d2caecba27"
  },
  {
   "cell_type": "code",
   "execution_count": 5,
   "outputs": [
    {
     "name": "stdout",
     "output_type": "stream",
     "text": [
      "Graph with 92 nodes and 215 edges\n",
      "Graph with 92 nodes and 215 edges\n"
     ]
    }
   ],
   "source": [
    "print(G)\n",
    "nx.write_gml(G, \"sgraph.gml\")\n",
    "\n",
    "# Odczyt grafu z pliku GML\n",
    "G_loaded = nx.read_gml(\"sgraph.gml\")\n",
    "print(G_loaded)"
   ],
   "metadata": {
    "collapsed": false,
    "ExecuteTime": {
     "end_time": "2024-10-18T10:57:20.928331500Z",
     "start_time": "2024-10-18T10:57:20.755771900Z"
    }
   },
   "id": "5f179df5ef04a58f"
  },
  {
   "cell_type": "code",
   "execution_count": null,
   "outputs": [],
   "source": [],
   "metadata": {
    "collapsed": false
   },
   "id": "98a040663716911e"
  }
 ],
 "metadata": {
  "kernelspec": {
   "display_name": "Python 3",
   "language": "python",
   "name": "python3"
  },
  "language_info": {
   "codemirror_mode": {
    "name": "ipython",
    "version": 2
   },
   "file_extension": ".py",
   "mimetype": "text/x-python",
   "name": "python",
   "nbconvert_exporter": "python",
   "pygments_lexer": "ipython2",
   "version": "2.7.6"
  }
 },
 "nbformat": 4,
 "nbformat_minor": 5
}
