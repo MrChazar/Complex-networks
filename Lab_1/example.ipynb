{
 "cells": [
  {
   "cell_type": "code",
   "execution_count": 63,
   "id": "initial_id",
   "metadata": {
    "collapsed": true,
    "ExecuteTime": {
     "end_time": "2024-10-13T11:25:30.651274400Z",
     "start_time": "2024-10-13T11:25:30.053051100Z"
    }
   },
   "outputs": [
    {
     "name": "stderr",
     "output_type": "stream",
     "text": [
      "\u001B[32m2024-10-13 13:25:30.569\u001B[0m | \u001B[34m\u001B[1mDEBUG   \u001B[0m | \u001B[36mwykop.wykop_api\u001B[0m:\u001B[36mauthenticate\u001B[0m:\u001B[36m42\u001B[0m - \u001B[34m\u001B[1mAuthenticated successfully.\u001B[0m\n",
      "\u001B[32m2024-10-13 13:25:30.571\u001B[0m | \u001B[34m\u001B[1mDEBUG   \u001B[0m | \u001B[36mwykop.wykop_api\u001B[0m:\u001B[36mmake_request\u001B[0m:\u001B[36m64\u001B[0m - \u001B[34m\u001B[1mMaking request to https://wykop.pl/api/v3/tags/nieruchomości/related\u001B[0m\n"
     ]
    },
    {
     "data": {
      "text/plain": "[{'name': 'kredythipoteczny'},\n {'name': 'mieszkanie'},\n {'name': 'heheszki'},\n {'name': 'ekonomia'},\n {'name': 'mieszkaniedeweloperskie'},\n {'name': 'gielda'},\n {'name': 'mieszkanienastart'},\n {'name': 'polska'},\n {'name': 'koalicjadeweloperska'},\n {'name': 'gospodarka'},\n {'name': 'deweloperka'},\n {'name': 'wynajem'},\n {'name': 'warszawa'},\n {'name': 'inwestycje'},\n {'name': 'budownictwo'}]"
     },
     "execution_count": 63,
     "metadata": {},
     "output_type": "execute_result"
    }
   ],
   "source": [
    "from wykop import WykopAPI\n",
    "import networkx as nx\n",
    "import matplotlib\n",
    "import matplotlib.pyplot as plt\n",
    "import plotly.graph_objects as go\n",
    "import time\n",
    "\n",
    "matplotlib.use('TkAgg')\n",
    "api = WykopAPI(\"w55988974f3d3194b7dd98c7ab2c6765c2\", \"05f093e009943e9e9b911f2a8a9f1a00\")\n",
    "api.authenticate()\n",
    "tag_name = \"nieruchomości\"\n",
    "related = api.make_request(f\"tags/{tag_name}/related\")\n",
    "related[\"data\"]"
   ]
  },
  {
   "cell_type": "code",
   "execution_count": 64,
   "outputs": [],
   "source": [
    "G = nx.Graph()\n",
    "G.add_node(tag_name)"
   ],
   "metadata": {
    "collapsed": false,
    "ExecuteTime": {
     "end_time": "2024-10-13T11:25:30.677135Z",
     "start_time": "2024-10-13T11:25:30.639755100Z"
    }
   },
   "id": "3e57d462bce9c72f"
  },
  {
   "cell_type": "code",
   "execution_count": 65,
   "outputs": [
    {
     "name": "stderr",
     "output_type": "stream",
     "text": [
      "\u001B[32m2024-10-13 13:25:31.713\u001B[0m | \u001B[34m\u001B[1mDEBUG   \u001B[0m | \u001B[36mwykop.wykop_api\u001B[0m:\u001B[36mmake_request\u001B[0m:\u001B[36m64\u001B[0m - \u001B[34m\u001B[1mMaking request to https://wykop.pl/api/v3/tags/kredythipoteczny/related\u001B[0m\n",
      "\u001B[32m2024-10-13 13:25:32.243\u001B[0m | \u001B[34m\u001B[1mDEBUG   \u001B[0m | \u001B[36mwykop.wykop_api\u001B[0m:\u001B[36mmake_request\u001B[0m:\u001B[36m64\u001B[0m - \u001B[34m\u001B[1mMaking request to https://wykop.pl/api/v3/tags/mieszkanie/related\u001B[0m\n",
      "\u001B[32m2024-10-13 13:25:32.800\u001B[0m | \u001B[34m\u001B[1mDEBUG   \u001B[0m | \u001B[36mwykop.wykop_api\u001B[0m:\u001B[36mmake_request\u001B[0m:\u001B[36m64\u001B[0m - \u001B[34m\u001B[1mMaking request to https://wykop.pl/api/v3/tags/heheszki/related\u001B[0m\n",
      "\u001B[32m2024-10-13 13:25:33.330\u001B[0m | \u001B[34m\u001B[1mDEBUG   \u001B[0m | \u001B[36mwykop.wykop_api\u001B[0m:\u001B[36mmake_request\u001B[0m:\u001B[36m64\u001B[0m - \u001B[34m\u001B[1mMaking request to https://wykop.pl/api/v3/tags/ekonomia/related\u001B[0m\n",
      "\u001B[32m2024-10-13 13:25:33.875\u001B[0m | \u001B[34m\u001B[1mDEBUG   \u001B[0m | \u001B[36mwykop.wykop_api\u001B[0m:\u001B[36mmake_request\u001B[0m:\u001B[36m64\u001B[0m - \u001B[34m\u001B[1mMaking request to https://wykop.pl/api/v3/tags/mieszkaniedeweloperskie/related\u001B[0m\n",
      "\u001B[32m2024-10-13 13:25:34.407\u001B[0m | \u001B[34m\u001B[1mDEBUG   \u001B[0m | \u001B[36mwykop.wykop_api\u001B[0m:\u001B[36mmake_request\u001B[0m:\u001B[36m64\u001B[0m - \u001B[34m\u001B[1mMaking request to https://wykop.pl/api/v3/tags/gielda/related\u001B[0m\n",
      "\u001B[32m2024-10-13 13:25:34.936\u001B[0m | \u001B[34m\u001B[1mDEBUG   \u001B[0m | \u001B[36mwykop.wykop_api\u001B[0m:\u001B[36mmake_request\u001B[0m:\u001B[36m64\u001B[0m - \u001B[34m\u001B[1mMaking request to https://wykop.pl/api/v3/tags/mieszkanienastart/related\u001B[0m\n",
      "\u001B[32m2024-10-13 13:25:35.481\u001B[0m | \u001B[34m\u001B[1mDEBUG   \u001B[0m | \u001B[36mwykop.wykop_api\u001B[0m:\u001B[36mmake_request\u001B[0m:\u001B[36m64\u001B[0m - \u001B[34m\u001B[1mMaking request to https://wykop.pl/api/v3/tags/polska/related\u001B[0m\n",
      "\u001B[32m2024-10-13 13:25:36.007\u001B[0m | \u001B[34m\u001B[1mDEBUG   \u001B[0m | \u001B[36mwykop.wykop_api\u001B[0m:\u001B[36mmake_request\u001B[0m:\u001B[36m64\u001B[0m - \u001B[34m\u001B[1mMaking request to https://wykop.pl/api/v3/tags/koalicjadeweloperska/related\u001B[0m\n",
      "\u001B[32m2024-10-13 13:25:36.552\u001B[0m | \u001B[34m\u001B[1mDEBUG   \u001B[0m | \u001B[36mwykop.wykop_api\u001B[0m:\u001B[36mmake_request\u001B[0m:\u001B[36m64\u001B[0m - \u001B[34m\u001B[1mMaking request to https://wykop.pl/api/v3/tags/gospodarka/related\u001B[0m\n",
      "\u001B[32m2024-10-13 13:25:37.097\u001B[0m | \u001B[34m\u001B[1mDEBUG   \u001B[0m | \u001B[36mwykop.wykop_api\u001B[0m:\u001B[36mmake_request\u001B[0m:\u001B[36m64\u001B[0m - \u001B[34m\u001B[1mMaking request to https://wykop.pl/api/v3/tags/deweloperka/related\u001B[0m\n",
      "\u001B[32m2024-10-13 13:25:37.644\u001B[0m | \u001B[34m\u001B[1mDEBUG   \u001B[0m | \u001B[36mwykop.wykop_api\u001B[0m:\u001B[36mmake_request\u001B[0m:\u001B[36m64\u001B[0m - \u001B[34m\u001B[1mMaking request to https://wykop.pl/api/v3/tags/wynajem/related\u001B[0m\n",
      "\u001B[32m2024-10-13 13:25:38.177\u001B[0m | \u001B[34m\u001B[1mDEBUG   \u001B[0m | \u001B[36mwykop.wykop_api\u001B[0m:\u001B[36mmake_request\u001B[0m:\u001B[36m64\u001B[0m - \u001B[34m\u001B[1mMaking request to https://wykop.pl/api/v3/tags/warszawa/related\u001B[0m\n",
      "\u001B[32m2024-10-13 13:25:38.738\u001B[0m | \u001B[34m\u001B[1mDEBUG   \u001B[0m | \u001B[36mwykop.wykop_api\u001B[0m:\u001B[36mmake_request\u001B[0m:\u001B[36m64\u001B[0m - \u001B[34m\u001B[1mMaking request to https://wykop.pl/api/v3/tags/inwestycje/related\u001B[0m\n",
      "\u001B[32m2024-10-13 13:25:39.267\u001B[0m | \u001B[34m\u001B[1mDEBUG   \u001B[0m | \u001B[36mwykop.wykop_api\u001B[0m:\u001B[36mmake_request\u001B[0m:\u001B[36m64\u001B[0m - \u001B[34m\u001B[1mMaking request to https://wykop.pl/api/v3/tags/budownictwo/related\u001B[0m\n"
     ]
    },
    {
     "name": "stdout",
     "output_type": "stream",
     "text": [
      "92\n"
     ]
    }
   ],
   "source": [
    "for related_tag in related[\"data\"]:\n",
    "    time.sleep(0.5)\n",
    "    G.add_edge(tag_name, related_tag[\"name\"])\n",
    "    second_degree_related = api.make_request(f\"tags/{related_tag['name']}/related\")\n",
    "    for second_degree_tag in second_degree_related[\"data\"]:\n",
    "        G.add_edge(related_tag[\"name\"], second_degree_tag[\"name\"])\n",
    "        \n",
    "        #third_degree_related = api.make_request(f\"tags/{second_degree_tag['name']}/related\")\n",
    "        \"\"\"\n",
    "        for third_degree_tag in third_degree_related[\"data\"]:\n",
    "            time.sleep(0.01)\n",
    "            G.add_edge(second_degree_tag[\"name\"], third_degree_tag[\"name\"])\n",
    "       \n",
    "            fourth_degree_related = api.make_request(f\"tags/{third_degree_tag['name']}/related\")\n",
    "            for fourth_degree_tag in fourth_degree_related[\"data\"]:\n",
    "                time.sleep(0.01)\n",
    "                G.add_edge(third_degree_tag[\"name\"], fourth_degree_tag[\"name\"])\n",
    "        \"\"\"\n",
    "print(len(G))"
   ],
   "metadata": {
    "collapsed": false,
    "ExecuteTime": {
     "end_time": "2024-10-13T11:25:39.329742200Z",
     "start_time": "2024-10-13T11:25:31.207560900Z"
    }
   },
   "id": "cf63e1472acd58a6"
  },
  {
   "cell_type": "code",
   "execution_count": 66,
   "outputs": [],
   "source": [
    "plt.figure(figsize=(150, 100))\n",
    "pos = nx.spring_layout(G, k=0.5, iterations=50)\n",
    "\n",
    "# nodes\n",
    "nx.draw_networkx_nodes(G, pos, node_size=[150+ v * 40 for v in dict(G.degree).values()])\n",
    "\n",
    "# edges\n",
    "nx.draw_networkx_edges(G, pos, edgelist=G.edges(), width=1.5)\n",
    "\n",
    "# labels\n",
    "nx.draw_networkx_labels(G, pos, font_size=12, font_family='sans-serif', font_color='red')\n",
    "\n",
    "plt.show()"
   ],
   "metadata": {
    "collapsed": false,
    "ExecuteTime": {
     "end_time": "2024-10-13T11:25:48.799594700Z",
     "start_time": "2024-10-13T11:25:39.321208300Z"
    }
   },
   "id": "84edd3d2caecba27"
  },
  {
   "cell_type": "code",
   "execution_count": 26,
   "outputs": [
    {
     "name": "stdout",
     "output_type": "stream",
     "text": [
      "Graph with 591 nodes and 1419 edges\n",
      "Graph with 591 nodes and 1419 edges\n"
     ]
    }
   ],
   "source": [
    "print(G)\n",
    "nx.write_gml(G, \"graph.gml\")\n",
    "\n",
    "# Odczyt grafu z pliku GML\n",
    "G_loaded = nx.read_gml(\"graph.gml\")\n",
    "print(G_loaded)"
   ],
   "metadata": {
    "collapsed": false,
    "ExecuteTime": {
     "end_time": "2024-10-13T10:44:56.205424500Z",
     "start_time": "2024-10-13T10:44:56.047876500Z"
    }
   },
   "id": "5f179df5ef04a58f"
  },
  {
   "cell_type": "code",
   "execution_count": null,
   "outputs": [],
   "source": [],
   "metadata": {
    "collapsed": false
   },
   "id": "98a040663716911e"
  }
 ],
 "metadata": {
  "kernelspec": {
   "display_name": "Python 3",
   "language": "python",
   "name": "python3"
  },
  "language_info": {
   "codemirror_mode": {
    "name": "ipython",
    "version": 2
   },
   "file_extension": ".py",
   "mimetype": "text/x-python",
   "name": "python",
   "nbconvert_exporter": "python",
   "pygments_lexer": "ipython2",
   "version": "2.7.6"
  }
 },
 "nbformat": 4,
 "nbformat_minor": 5
}
